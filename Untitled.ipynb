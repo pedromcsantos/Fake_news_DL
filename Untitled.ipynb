{
 "cells": [
  {
   "cell_type": "code",
   "execution_count": 1,
   "metadata": {},
   "outputs": [
    {
     "name": "stderr",
     "output_type": "stream",
     "text": [
      "Using TensorFlow backend.\n"
     ]
    }
   ],
   "source": [
    "import numpy as np\n",
    "import pandas as pd\n",
    "import matplotlib.pyplot as plt\n",
    "import seaborn as sns\n",
    "from sklearn.model_selection import train_test_split\n",
    "from sklearn.metrics import classification_report, accuracy_score\n",
    "\n",
    "\n",
    "from keras.preprocessing.text import Tokenizer\n",
    "from keras.preprocessing.sequence import pad_sequences\n",
    "from keras.models import Sequential\n",
    "from keras.layers import Dense, Embedding, LSTM, Conv1D, MaxPool1D\n",
    "\n",
    "\n",
    "import warnings\n",
    "warnings.filterwarnings('ignore')\n"
   ]
  },
  {
   "cell_type": "code",
   "execution_count": 2,
   "metadata": {},
   "outputs": [],
   "source": [
    "real = pd.read_csv(\"True.csv\")\n",
    "fake = pd.read_csv(\"Fake.csv\")"
   ]
  },
  {
   "cell_type": "markdown",
   "metadata": {},
   "source": [
    "## Explore Fake News Dataset"
   ]
  },
  {
   "cell_type": "code",
   "execution_count": 3,
   "metadata": {
    "scrolled": true
   },
   "outputs": [
    {
     "name": "stdout",
     "output_type": "stream",
     "text": [
      "<class 'pandas.core.frame.DataFrame'>\n",
      "RangeIndex: 23481 entries, 0 to 23480\n",
      "Data columns (total 4 columns):\n",
      " #   Column   Non-Null Count  Dtype \n",
      "---  ------   --------------  ----- \n",
      " 0   title    23481 non-null  object\n",
      " 1   text     23481 non-null  object\n",
      " 2   subject  23481 non-null  object\n",
      " 3   date     23481 non-null  object\n",
      "dtypes: object(4)\n",
      "memory usage: 733.9+ KB\n"
     ]
    }
   ],
   "source": [
    "fake.info()"
   ]
  },
  {
   "cell_type": "code",
   "execution_count": 4,
   "metadata": {},
   "outputs": [
    {
     "data": {
      "text/plain": "<matplotlib.axes._subplots.AxesSubplot at 0x1f5f13e03a0>"
     },
     "execution_count": 4,
     "metadata": {},
     "output_type": "execute_result"
    },
    {
     "data": {
      "text/plain": "<Figure size 432x288 with 1 Axes>",
      "image/png": "[encoded data removed]"
     },
     "metadata": {
      "needs_background": "light"
     },
     "output_type": "display_data"
    }
   ],
   "source": [
    "sns.countplot(fake.subject)"
   ]
  },
  {
   "cell_type": "code",
   "execution_count": 5,
   "metadata": {},
   "outputs": [
    {
     "data": {
      "text/plain": "0     Donald Trump Sends Out Embarrassing New Year’...\n1     Drunk Bragging Trump Staffer Started Russian ...\n2     Sheriff David Clarke Becomes An Internet Joke...\n3     Trump Is So Obsessed He Even Has Obama’s Name...\n4     Pope Francis Just Called Out Donald Trump Dur...\nName: title, dtype: object"
     },
     "execution_count": 5,
     "metadata": {},
     "output_type": "execute_result"
    }
   ],
   "source": [
    "fake.title.head()"
   ]
  },
  {
   "cell_type": "code",
   "execution_count": 6,
   "metadata": {},
   "outputs": [
    {
     "data": {
      "text/plain": "0    Donald Trump just couldn t wish all Americans ...\n1    House Intelligence Committee Chairman Devin Nu...\n2    On Friday, it was revealed that former Milwauk...\n3    On Christmas day, Donald Trump announced that ...\n4    Pope Francis used his annual Christmas Day mes...\nName: text, dtype: object"
     },
     "execution_count": 6,
     "metadata": {},
     "output_type": "execute_result"
    }
   ],
   "source": [
    "fake.text.head()"
   ]
  },
  {
   "cell_type": "markdown",
   "metadata": {},
   "source": [
    "## Explore Real News Dataset"
   ]
  },
  {
   "cell_type": "code",
   "execution_count": 7,
   "metadata": {},
   "outputs": [
    {
     "name": "stdout",
     "output_type": "stream",
     "text": [
      "<class 'pandas.core.frame.DataFrame'>\n",
      "RangeIndex: 21417 entries, 0 to 21416\n",
      "Data columns (total 4 columns):\n",
      " #   Column   Non-Null Count  Dtype \n",
      "---  ------   --------------  ----- \n",
      " 0   title    21417 non-null  object\n",
      " 1   text     21417 non-null  object\n",
      " 2   subject  21417 non-null  object\n",
      " 3   date     21417 non-null  object\n",
      "dtypes: object(4)\n",
      "memory usage: 669.4+ KB\n"
     ]
    }
   ],
   "source": [
    "real.info()"
   ]
  },
  {
   "cell_type": "code",
   "execution_count": 8,
   "metadata": {},
   "outputs": [
    {
     "data": {
      "text/plain": "<matplotlib.axes._subplots.AxesSubplot at 0x1f5f19d9fa0>"
     },
     "execution_count": 8,
     "metadata": {},
     "output_type": "execute_result"
    },
    {
     "data": {
      "text/plain": "<Figure size 432x288 with 1 Axes>",
      "image/png": "[encoded data removed]"
     },
     "metadata": {
      "needs_background": "light"
     },
     "output_type": "display_data"
    }
   ],
   "source": [
    "sns.countplot(real.subject) #less subjects"
   ]
  },
  {
   "cell_type": "code",
   "execution_count": 9,
   "metadata": {},
   "outputs": [
    {
     "data": {
      "text/plain": "0    As U.S. budget fight looms, Republicans flip t...\n1    U.S. military to accept transgender recruits o...\n2    Senior U.S. Republican senator: 'Let Mr. Muell...\n3    FBI Russia probe helped by Australian diplomat...\n4    Trump wants Postal Service to charge 'much mor...\nName: title, dtype: object"
     },
     "execution_count": 9,
     "metadata": {},
     "output_type": "execute_result"
    }
   ],
   "source": [
    "real.title.head()"
   ]
  },
  {
   "cell_type": "code",
   "execution_count": 10,
   "metadata": {},
   "outputs": [
    {
     "data": {
      "text/plain": "0    WASHINGTON (Reuters) - The head of a conservat...\n1    WASHINGTON (Reuters) - Transgender people will...\n2    WASHINGTON (Reuters) - The special counsel inv...\n3    WASHINGTON (Reuters) - Trump campaign adviser ...\n4    SEATTLE/WASHINGTON (Reuters) - President Donal...\nName: text, dtype: object"
     },
     "execution_count": 10,
     "metadata": {},
     "output_type": "execute_result"
    }
   ],
   "source": [
    "real.text.head() \n",
    "#real news seem to always start with the publisher/source. since fake news dont have it, we should remove them\n",
    "#source can also be twitter"
   ]
  },
  {
   "cell_type": "code",
   "execution_count": 11,
   "metadata": {},
   "outputs": [],
   "source": [
    "source = []\n",
    "new_text = []\n",
    "for row in real.text:\n",
    "    try:\n",
    "        record = row.split(\" -\", maxsplit=1)\n",
    "        source.append(record[0])\n",
    "        new_text.append(record[1])\n",
    "    except:\n",
    "         new_text.append(record[0])"
   ]
  },
  {
   "cell_type": "code",
   "execution_count": 12,
   "metadata": {},
   "outputs": [],
   "source": [
    "real[\"source\"] = source\n",
    "real[\"text\"] = new_text #replace the previous text with the new one without source"
   ]
  },
  {
   "cell_type": "code",
   "execution_count": 13,
   "metadata": {},
   "outputs": [
    {
     "data": {
      "text/plain": "                                                   title  \\\n0      As U.S. budget fight looms, Republicans flip t...   \n1      U.S. military to accept transgender recruits o...   \n2      Senior U.S. Republican senator: 'Let Mr. Muell...   \n3      FBI Russia probe helped by Australian diplomat...   \n4      Trump wants Postal Service to charge 'much mor...   \n...                                                  ...   \n21412  'Fully committed' NATO backs new U.S. approach...   \n21413  LexisNexis withdrew two products from Chinese ...   \n21414  Minsk cultural hub becomes haven from authorities   \n21415  Vatican upbeat on possibility of Pope Francis ...   \n21416  Indonesia to buy $1.14 billion worth of Russia...   \n\n                                                    text       subject  \\\n0       The head of a conservative Republican faction...  politicsNews   \n1       Transgender people will be allowed for the fi...  politicsNews   \n2       The special counsel investigation of links be...  politicsNews   \n3       Trump campaign adviser George Papadopoulos to...  politicsNews   \n4       President Donald Trump called on the U.S. Pos...  politicsNews   \n...                                                  ...           ...   \n21412   NATO allies on Tuesday welcomed President Don...     worldnews   \n21413   LexisNexis, a provider of legal, regulatory a...     worldnews   \n21414   In the shadow of disused Soviet-era factories...     worldnews   \n21415   Vatican Secretary of State Cardinal Pietro Pa...     worldnews   \n21416   Indonesia will buy 11 Sukhoi fighter jets wor...     worldnews   \n\n                     date                        source  \n0      December 31, 2017           WASHINGTON (Reuters)  \n1      December 29, 2017           WASHINGTON (Reuters)  \n2      December 31, 2017           WASHINGTON (Reuters)  \n3      December 30, 2017           WASHINGTON (Reuters)  \n4      December 29, 2017   SEATTLE/WASHINGTON (Reuters)  \n...                   ...                           ...  \n21412    August 22, 2017             BRUSSELS (Reuters)  \n21413    August 22, 2017               LONDON (Reuters)  \n21414    August 22, 2017                MINSK (Reuters)  \n21415    August 22, 2017               MOSCOW (Reuters)  \n21416    August 22, 2017              JAKARTA (Reuters)  \n\n[21417 rows x 5 columns]",
      "text/html": "<div>\n<style scoped>\n    .dataframe tbody tr th:only-of-type {\n        vertical-align: middle;\n    }\n\n    .dataframe tbody tr th {\n        vertical-align: top;\n    }\n\n    .dataframe thead th {\n        text-align: right;\n    }\n</style>\n<table border=\"1\" class=\"dataframe\">\n  <thead>\n    <tr style=\"text-align: right;\">\n      <th></th>\n      <th>title</th>\n      <th>text</th>\n      <th>subject</th>\n      <th>date</th>\n      <th>source</th>\n    </tr>\n  </thead>\n  <tbody>\n    <tr>\n      <th>0</th>\n      <td>As U.S. budget fight looms, Republicans flip t...</td>\n      <td>The head of a conservative Republican faction...</td>\n      <td>politicsNews</td>\n      <td>December 31, 2017</td>\n      <td>WASHINGTON (Reuters)</td>\n    </tr>\n    <tr>\n      <th>1</th>\n      <td>U.S. military to accept transgender recruits o...</td>\n      <td>Transgender people will be allowed for the fi...</td>\n      <td>politicsNews</td>\n      <td>December 29, 2017</td>\n      <td>WASHINGTON (Reuters)</td>\n    </tr>\n    <tr>\n      <th>2</th>\n      <td>Senior U.S. Republican senator: 'Let Mr. Muell...</td>\n      <td>The special counsel investigation of links be...</td>\n      <td>politicsNews</td>\n      <td>December 31, 2017</td>\n      <td>WASHINGTON (Reuters)</td>\n    </tr>\n    <tr>\n      <th>3</th>\n      <td>FBI Russia probe helped by Australian diplomat...</td>\n      <td>Trump campaign adviser George Papadopoulos to...</td>\n      <td>politicsNews</td>\n      <td>December 30, 2017</td>\n      <td>WASHINGTON (Reuters)</td>\n    </tr>\n    <tr>\n      <th>4</th>\n      <td>Trump wants Postal Service to charge 'much mor...</td>\n      <td>President Donald Trump called on the U.S. Pos...</td>\n      <td>politicsNews</td>\n      <td>December 29, 2017</td>\n      <td>SEATTLE/WASHINGTON (Reuters)</td>\n    </tr>\n    <tr>\n      <th>...</th>\n      <td>...</td>\n      <td>...</td>\n      <td>...</td>\n      <td>...</td>\n      <td>...</td>\n    </tr>\n    <tr>\n      <th>21412</th>\n      <td>'Fully committed' NATO backs new U.S. approach...</td>\n      <td>NATO allies on Tuesday welcomed President Don...</td>\n      <td>worldnews</td>\n      <td>August 22, 2017</td>\n      <td>BRUSSELS (Reuters)</td>\n    </tr>\n    <tr>\n      <th>21413</th>\n      <td>LexisNexis withdrew two products from Chinese ...</td>\n      <td>LexisNexis, a provider of legal, regulatory a...</td>\n      <td>worldnews</td>\n      <td>August 22, 2017</td>\n      <td>LONDON (Reuters)</td>\n    </tr>\n    <tr>\n      <th>21414</th>\n      <td>Minsk cultural hub becomes haven from authorities</td>\n      <td>In the shadow of disused Soviet-era factories...</td>\n      <td>worldnews</td>\n      <td>August 22, 2017</td>\n      <td>MINSK (Reuters)</td>\n    </tr>\n    <tr>\n      <th>21415</th>\n      <td>Vatican upbeat on possibility of Pope Francis ...</td>\n      <td>Vatican Secretary of State Cardinal Pietro Pa...</td>\n      <td>worldnews</td>\n      <td>August 22, 2017</td>\n      <td>MOSCOW (Reuters)</td>\n    </tr>\n    <tr>\n      <th>21416</th>\n      <td>Indonesia to buy $1.14 billion worth of Russia...</td>\n      <td>Indonesia will buy 11 Sukhoi fighter jets wor...</td>\n      <td>worldnews</td>\n      <td>August 22, 2017</td>\n      <td>JAKARTA (Reuters)</td>\n    </tr>\n  </tbody>\n</table>\n<p>21417 rows × 5 columns</p>\n</div>"
     },
     "execution_count": 13,
     "metadata": {},
     "output_type": "execute_result"
    }
   ],
   "source": [
    "real"
   ]
  },
  {
   "cell_type": "markdown",
   "metadata": {},
   "source": [
    "## Pre-processing"
   ]
  },
  {
   "cell_type": "code",
   "execution_count": 14,
   "metadata": {},
   "outputs": [],
   "source": [
    "#Create label for real/fake\n",
    "real[\"label\"] = 1\n",
    "fake[\"label\"] = 0"
   ]
  },
  {
   "cell_type": "code",
   "execution_count": 15,
   "metadata": {},
   "outputs": [],
   "source": [
    "#merge both datasets\n",
    "df = pd.concat([real, fake])"
   ]
  },
  {
   "cell_type": "code",
   "execution_count": 16,
   "metadata": {},
   "outputs": [],
   "source": [
    "#2 approaches: with Text only or with Text + Title\n",
    "\n",
    "#if text + title\n",
    "text_title = True\n",
    "if text_title == True:\n",
    "    df[\"text\"] = df[\"title\"] + df[\"text\"]\n",
    "       "
   ]
  },
  {
   "cell_type": "code",
   "execution_count": 17,
   "metadata": {},
   "outputs": [],
   "source": [
    "#Drop columns\n",
    "df.drop([\"date\",\"source\",\"subject\",\"title\"], axis=1, inplace=True)"
   ]
  },
  {
   "cell_type": "code",
   "execution_count": 18,
   "metadata": {},
   "outputs": [
    {
     "data": {
      "text/plain": "\"\\n    stop_words = set(stopwords.words('english'))\\n    filtered_sentence = []\\n    filtered_texts = []\\n    for i in sequence_text:\\n        filtered_sentence = [w for w in i if not w in stop_words]\\n        filtered_texts.append(filtered_sentence)\\n\""
     },
     "execution_count": 18,
     "metadata": {},
     "output_type": "execute_result"
    }
   ],
   "source": [
    "#from nltk.corpus import stopwords\n",
    "from sklearn.feature_extraction.text import TfidfVectorizer\n",
    "\n",
    "def preprocess_dataset(df):\n",
    "    tokenizer = Tokenizer()\n",
    "    tokenizer.fit_on_texts(df.text)\n",
    "    sequence_text = tokenizer.texts_to_sequences(df.text)\n",
    "    padded_text = pad_sequences(sequence_text, maxlen=None)\n",
    "    targets = df.label\n",
    "    tf_idf = TfidfVectorizer(max_features=10000,stop_words={'english'})\n",
    "    tf_idf.fit(df.text)\n",
    "    tf_idf_vec = tf_idf.transform(df.text)\n",
    "\n",
    "    return padded_text, targets, tf_idf, tf_idf_vec\n",
    "\"\"\"\n",
    "    stop_words = set(stopwords.words('english'))\n",
    "    filtered_sentence = []\n",
    "    filtered_texts = []\n",
    "    for i in sequence_text:\n",
    "        filtered_sentence = [w for w in i if not w in stop_words]\n",
    "        filtered_texts.append(filtered_sentence)\n",
    "\"\"\"\n",
    "\n"
   ]
  },
  {
   "cell_type": "code",
   "execution_count": 19,
   "metadata": {},
   "outputs": [],
   "source": [
    "def model(embedding_dim=128):\n",
    "    model = Sequential()\n",
    "    model.add(Embedding(10000, embedding_dim))\n",
    "    model.add(LSTM(embedding_dim))\n",
    "    model.add(Dense(1, activation='sigmoid'))\n",
    "    model.compile(loss='binary_crossentropy', optimizer='adam', metrics=['accuracy'])\n",
    "    return model"
   ]
  },
  {
   "cell_type": "code",
   "execution_count": 20,
   "metadata": {},
   "outputs": [],
   "source": [
    "def model_history(model, X_train,y_train, epochs, batch_size):\n",
    "\n",
    "    history = model.fit(X_train, y_train,\n",
    "                       epochs=epochs,\n",
    "                       batch_size=batch_size,\n",
    "                       validation_split=0.3)\n",
    "    return history"
   ]
  },
  {
   "cell_type": "code",
   "execution_count": 21,
   "metadata": {},
   "outputs": [
    {
     "name": "stdout",
     "output_type": "stream",
     "text": [
      "Model: \"sequential_1\"\n",
      "_________________________________________________________________\n",
      "Layer (type)                 Output Shape              Param #   \n",
      "=================================================================\n",
      "embedding_1 (Embedding)      (None, None, 128)         1280000   \n",
      "_________________________________________________________________\n",
      "lstm_1 (LSTM)                (None, 128)               131584    \n",
      "_________________________________________________________________\n",
      "dense_1 (Dense)              (None, 1)                 129       \n",
      "=================================================================\n",
      "Total params: 1,411,713\n",
      "Trainable params: 1,411,713\n",
      "Non-trainable params: 0\n",
      "_________________________________________________________________\n"
     ]
    }
   ],
   "source": [
    "model().summary()"
   ]
  },
  {
   "cell_type": "code",
   "execution_count": 22,
   "metadata": {},
   "outputs": [],
   "source": [
    "padded_text, targets, tf_idf, tf_idf_vec = preprocess_dataset(df)\n",
    "\n",
    "def splits(text, target):\n",
    "    X_train_val, X_test, y_train_val, y_test = train_test_split(text,target,stratify=target,test_size=0.2)\n",
    "    X_train, X_val, y_train, y_val = train_test_split(text,target,stratify=target,test_size=0.3)\n",
    "    return X_train,X_val,X_test,y_train,y_val,y_test\n",
    "\n",
    "X_train,X_val,X_test,y_train,y_val,y_test = splits(padded_text,targets)\n",
    "X_traintf,X_valtf,X_testtf,y_traintf,y_valtf,y_testtf = splits(tf_idf_vec,targets)"
   ]
  },
  {
   "cell_type": "code",
   "execution_count": 23,
   "metadata": {},
   "outputs": [],
   "source": [
    "model = model()"
   ]
  },
  {
   "cell_type": "code",
   "execution_count": null,
   "metadata": {
    "pycharm": {
     "is_executing": true
    }
   },
   "outputs": [
    {
     "name": "stdout",
     "output_type": "stream",
     "text": [
      "Train on 21999 samples, validate on 9429 samples\n",
      "Epoch 1/10\n"
     ]
    }
   ],
   "source": [
    "from tensorflow.keras.optimizers import Adam\n",
    "history = model_history(model, X_traintf, y_traintf, 10, 128)"
   ]
  },
  {
   "cell_type": "code",
   "execution_count": null,
   "metadata": {
    "pycharm": {
     "is_executing": true
    }
   },
   "outputs": [],
   "source": [
    "import tensorflow as tf\n",
    "\n",
    "\n",
    "sess = tf.Session(config=tf.ConfigProto(log_device_placement=True))\n"
   ]
  }
 ],
 "metadata": {
  "kernelspec": {
   "name": "pycharm-4883592c",
   "language": "python",
   "display_name": "PyCharm (Fake_News_DL)"
  },
  "language_info": {
   "codemirror_mode": {
    "name": "ipython",
    "version": 3
   },
   "file_extension": ".py",
   "mimetype": "text/x-python",
   "name": "python",
   "nbconvert_exporter": "python",
   "pygments_lexer": "ipython3",
   "version": "3.7.3"
  }
 },
 "nbformat": 4,
 "nbformat_minor": 2
}